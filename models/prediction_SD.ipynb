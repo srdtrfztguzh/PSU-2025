{
 "cells": [
  {
   "cell_type": "code",
   "execution_count": 113,
   "metadata": {},
   "outputs": [],
   "source": [
    "# import tensorflow as tf\n",
    "# from tensorflow.keras.models import load_model\n",
    "import pickle\n",
    "import pandas as pd\n",
    "import numpy as np\n",
    "\n",
    "from catboost import CatBoostClassifier\n",
    "from sklearn.metrics import accuracy_score\n",
    "from sklearn.ensemble import VotingClassifier\n",
    "from xgboost import XGBClassifier\n",
    "from sklearn.ensemble import RandomForestClassifier"
   ]
  },
  {
   "cell_type": "code",
   "execution_count": 114,
   "metadata": {},
   "outputs": [
    {
     "name": "stderr",
     "output_type": "stream",
     "text": [
      "<>:7: SyntaxWarning: invalid escape sequence '\\o'\n",
      "<>:10: SyntaxWarning: invalid escape sequence '\\l'\n",
      "<>:13: SyntaxWarning: invalid escape sequence '\\s'\n",
      "<>:7: SyntaxWarning: invalid escape sequence '\\o'\n",
      "<>:10: SyntaxWarning: invalid escape sequence '\\l'\n",
      "<>:13: SyntaxWarning: invalid escape sequence '\\s'\n",
      "C:\\Users\\0027OA744\\AppData\\Local\\Temp\\ipykernel_22288\\2941454684.py:7: SyntaxWarning: invalid escape sequence '\\o'\n",
      "  with open('..\\onehot_encoder_SD.pkl','rb') as file:\n",
      "C:\\Users\\0027OA744\\AppData\\Local\\Temp\\ipykernel_22288\\2941454684.py:10: SyntaxWarning: invalid escape sequence '\\l'\n",
      "  with open('..\\label_encoder_SD.pkl', 'rb') as file:\n",
      "C:\\Users\\0027OA744\\AppData\\Local\\Temp\\ipykernel_22288\\2941454684.py:13: SyntaxWarning: invalid escape sequence '\\s'\n",
      "  with open('..\\scaler_SD.pkl', 'rb') as file:\n"
     ]
    }
   ],
   "source": [
    "### Load the trained model, scaler pickle,onehot\n",
    "# model=load_model('model.h5')\n",
    "with open('ensemble_model_SD.pkl','rb') as file:\n",
    "    ensemble_model=pickle.load(file)\n",
    "\n",
    "## load the encoder and scaler\n",
    "with open('..\\onehot_encoder_SD.pkl','rb') as file:\n",
    "    onehot_encoder=pickle.load(file)\n",
    "\n",
    "with open('..\\label_encoder_SD.pkl', 'rb') as file:\n",
    "    label_encoder = pickle.load(file)\n",
    "\n",
    "with open('..\\scaler_SD.pkl', 'rb') as file:\n",
    "    scaler = pickle.load(file)"
   ]
  },
  {
   "cell_type": "code",
   "execution_count": 123,
   "metadata": {},
   "outputs": [],
   "source": [
    "# Example input data\n",
    "# input_data = {\n",
    "#     'CreditScore': 600,\n",
    "#     'Geography': 'France',\n",
    "#     'Gender': 'Male',\n",
    "#     'Age': 40,\n",
    "#     'Tenure': 3,\n",
    "#     'Balance': 60000,\n",
    "#     'NumOfProducts': 2,\n",
    "#     'HasCrCard': 1,\n",
    "#     'IsActiveMember': 1,\n",
    "#     'EstimatedSalary': 50000\n",
    "# }\n",
    "\n",
    "data = {\n",
    "    \"age\": 48,\n",
    "    \"bp\": 80,\n",
    "    \"sg\": 1.02,\n",
    "    \"al\": 1,\n",
    "    \"sugar\": 0,\n",
    "    # \"rbc\": ?,\n",
    "    \"pc\": 'normal',\n",
    "    \"pcc\": 'notpresent',\n",
    "    \"ba\": 'notpresent',\n",
    "    \"bgr\": 121,\n",
    "    \"bu\": 36,\n",
    "    \"sc\": 1.2,\n",
    "    \"sod\": 111,\n",
    "    \"pot\": 2.5,\n",
    "    \"hemo\": 15.4,\n",
    "    \"pcv\": 44,\n",
    "    \"wc\": 7800,\n",
    "    # \"rc\": 5.2,\n",
    "    # \"htn\": 'yes',\n",
    "    \"dm\": 'yes',\n",
    "    \"cad\": 'no',\n",
    "    \"appet\": 'good',\n",
    "    \"pe\": 'no',\n",
    "    \"ane\": 'no'\n",
    "}\n",
    "\n",
    "input_df = pd.DataFrame([data])"
   ]
  },
  {
   "cell_type": "code",
   "execution_count": 120,
   "metadata": {},
   "outputs": [
    {
     "data": {
      "text/plain": [
       "[array(['good', 'no', 'poor'], dtype=object),\n",
       " array(['good', 'no', 'yes'], dtype=object)]"
      ]
     },
     "execution_count": 120,
     "metadata": {},
     "output_type": "execute_result"
    }
   ],
   "source": [
    "onehot_encoder.categories_"
   ]
  },
  {
   "cell_type": "code",
   "execution_count": 124,
   "metadata": {},
   "outputs": [
    {
     "name": "stdout",
     "output_type": "stream",
     "text": [
      "Index(['age', 'bp', 'sg', 'al', 'sugar', 'pc', 'pcc', 'ba', 'bgr', 'bu', 'sc',\n",
      "       'sod', 'pot', 'hemo', 'pcv', 'wc', 'dm', 'cad', 'ane', 'appet_no',\n",
      "       'appet_poor', 'pe_no', 'pe_yes'],\n",
      "      dtype='object')\n"
     ]
    }
   ],
   "source": [
    "# Select columns to encode\n",
    "columns_to_encode = ['appet', 'pe']\n",
    "\n",
    "# Fit and transform the categorical columns\n",
    "encoded_array = onehot_encoder.transform(input_df[columns_to_encode])\n",
    "\n",
    "# Convert the encoded array to a DataFrame\n",
    "encoded_df = pd.DataFrame(encoded_array, columns=onehot_encoder.get_feature_names_out(columns_to_encode))\n",
    "\n",
    "# Drop original categorical columns and concatenate the new one-hot encoded DataFrame\n",
    "input_df = input_df.drop(columns_to_encode, axis=1)\n",
    "input_df = pd.concat([input_df, encoded_df], axis=1)\n",
    "\n",
    "print(input_df.columns)\n"
   ]
  },
  {
   "cell_type": "code",
   "execution_count": 125,
   "metadata": {},
   "outputs": [
    {
     "data": {
      "text/html": [
       "<div>\n",
       "<style scoped>\n",
       "    .dataframe tbody tr th:only-of-type {\n",
       "        vertical-align: middle;\n",
       "    }\n",
       "\n",
       "    .dataframe tbody tr th {\n",
       "        vertical-align: top;\n",
       "    }\n",
       "\n",
       "    .dataframe thead th {\n",
       "        text-align: right;\n",
       "    }\n",
       "</style>\n",
       "<table border=\"1\" class=\"dataframe\">\n",
       "  <thead>\n",
       "    <tr style=\"text-align: right;\">\n",
       "      <th></th>\n",
       "      <th>age</th>\n",
       "      <th>bp</th>\n",
       "      <th>sg</th>\n",
       "      <th>al</th>\n",
       "      <th>sugar</th>\n",
       "      <th>pc</th>\n",
       "      <th>pcc</th>\n",
       "      <th>ba</th>\n",
       "      <th>bgr</th>\n",
       "      <th>bu</th>\n",
       "      <th>...</th>\n",
       "      <th>hemo</th>\n",
       "      <th>pcv</th>\n",
       "      <th>wc</th>\n",
       "      <th>dm</th>\n",
       "      <th>cad</th>\n",
       "      <th>ane</th>\n",
       "      <th>appet_no</th>\n",
       "      <th>appet_poor</th>\n",
       "      <th>pe_no</th>\n",
       "      <th>pe_yes</th>\n",
       "    </tr>\n",
       "  </thead>\n",
       "  <tbody>\n",
       "    <tr>\n",
       "      <th>0</th>\n",
       "      <td>48</td>\n",
       "      <td>80</td>\n",
       "      <td>1.02</td>\n",
       "      <td>1</td>\n",
       "      <td>0</td>\n",
       "      <td>1</td>\n",
       "      <td>0</td>\n",
       "      <td>0</td>\n",
       "      <td>121</td>\n",
       "      <td>36</td>\n",
       "      <td>...</td>\n",
       "      <td>15.4</td>\n",
       "      <td>44</td>\n",
       "      <td>7800</td>\n",
       "      <td>1</td>\n",
       "      <td>0</td>\n",
       "      <td>0</td>\n",
       "      <td>0.0</td>\n",
       "      <td>0.0</td>\n",
       "      <td>1.0</td>\n",
       "      <td>0.0</td>\n",
       "    </tr>\n",
       "  </tbody>\n",
       "</table>\n",
       "<p>1 rows × 23 columns</p>\n",
       "</div>"
      ],
      "text/plain": [
       "   age  bp    sg  al  sugar  pc  pcc  ba  bgr  bu  ...  hemo  pcv    wc  dm  \\\n",
       "0   48  80  1.02   1      0   1    0   0  121  36  ...  15.4   44  7800   1   \n",
       "\n",
       "   cad  ane  appet_no  appet_poor  pe_no  pe_yes  \n",
       "0    0    0       0.0         0.0    1.0     0.0  \n",
       "\n",
       "[1 rows x 23 columns]"
      ]
     },
     "execution_count": 125,
     "metadata": {},
     "output_type": "execute_result"
    }
   ],
   "source": [
    "## Encode other categorical variables\n",
    "\n",
    "columns_to_encode = ['pc', 'pcc', 'ba', 'dm', 'cad', 'ane']\n",
    "# input_df['pc']=label_encoder.transform(input_df['pc'])\n",
    "\n",
    "for col in columns_to_encode:\n",
    "    # print(col)\n",
    "    input_df[col] = label_encoder[col].transform(input_df[col])\n",
    "\n",
    "\n",
    "input_df"
   ]
  },
  {
   "cell_type": "code",
   "execution_count": 133,
   "metadata": {},
   "outputs": [],
   "source": [
    "input_df = input_df[scaler.feature_names_in_]"
   ]
  },
  {
   "cell_type": "code",
   "execution_count": 134,
   "metadata": {},
   "outputs": [
    {
     "data": {
      "text/plain": [
       "array([[-0.19247086,  0.34434682,  0.39631199,  0.14698114, -0.35355339,\n",
       "        -0.3346643 , -0.39193566, -0.40499449, -4.32281705, -3.26500669,\n",
       "         1.06712249,  0.61094592, -0.22986653,  0.4404882 , -0.31767504,\n",
       "        -0.22941573,  1.4010578 , -0.34099717, -0.43372666, -0.19738551,\n",
       "        -0.51298918,  0.51946248, -0.46056619]])"
      ]
     },
     "execution_count": 134,
     "metadata": {},
     "output_type": "execute_result"
    }
   ],
   "source": [
    "## Scaling the input data\n",
    "input_scaled=scaler.transform(input_df)\n",
    "input_scaled"
   ]
  },
  {
   "cell_type": "code",
   "execution_count": 138,
   "metadata": {},
   "outputs": [
    {
     "data": {
      "text/plain": [
       "[('rf', RandomForestClassifier(n_estimators=50, random_state=42)),\n",
       " ('xgb',\n",
       "  XGBClassifier(base_score=None, booster=None, callbacks=None,\n",
       "                colsample_bylevel=None, colsample_bynode=None,\n",
       "                colsample_bytree=None, device=None, early_stopping_rounds=None,\n",
       "                enable_categorical=False, eval_metric='logloss',\n",
       "                feature_types=None, feature_weights=None, gamma=None,\n",
       "                grow_policy=None, importance_type=None,\n",
       "                interaction_constraints=None, learning_rate=0.1, max_bin=None,\n",
       "                max_cat_threshold=None, max_cat_to_onehot=None,\n",
       "                max_delta_step=None, max_depth=3, max_leaves=None,\n",
       "                min_child_weight=3, missing=nan, monotone_constraints=None,\n",
       "                multi_strategy=None, n_estimators=50, n_jobs=None,\n",
       "                num_parallel_tree=None, ...)),\n",
       " ('cat', <catboost.core.CatBoostClassifier at 0x10bc56b3620>)]"
      ]
     },
     "execution_count": 138,
     "metadata": {},
     "output_type": "execute_result"
    }
   ],
   "source": [
    "ensemble_model.predict_"
   ]
  },
  {
   "cell_type": "code",
   "execution_count": 140,
   "metadata": {},
   "outputs": [
    {
     "data": {
      "text/plain": [
       "array([1])"
      ]
     },
     "execution_count": 140,
     "metadata": {},
     "output_type": "execute_result"
    }
   ],
   "source": [
    "## PRedict cdk\n",
    "prediction = ensemble_model.predict(input_scaled)\n",
    "prediction"
   ]
  },
  {
   "cell_type": "code",
   "execution_count": 141,
   "metadata": {},
   "outputs": [
    {
     "name": "stdout",
     "output_type": "stream",
     "text": [
      "The patient is likely to have chronic kidney disease\n"
     ]
    }
   ],
   "source": [
    "if prediction ==1 :\n",
    "    print('The patient is likely to have chronic kidney disease')\n",
    "else:\n",
    "    print('The patient is NOT likely to have chronic kidney disease')"
   ]
  },
  {
   "cell_type": "code",
   "execution_count": null,
   "metadata": {},
   "outputs": [],
   "source": []
  }
 ],
 "metadata": {
  "kernelspec": {
   "display_name": "Python 3",
   "language": "python",
   "name": "python3"
  },
  "language_info": {
   "codemirror_mode": {
    "name": "ipython",
    "version": 3
   },
   "file_extension": ".py",
   "mimetype": "text/x-python",
   "name": "python",
   "nbconvert_exporter": "python",
   "pygments_lexer": "ipython3",
   "version": "3.12.0"
  }
 },
 "nbformat": 4,
 "nbformat_minor": 2
}
